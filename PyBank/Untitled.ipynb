{
 "cells": [
  {
   "cell_type": "code",
   "execution_count": 14,
   "id": "d61b0cfc",
   "metadata": {},
   "outputs": [
    {
     "name": "stdout",
     "output_type": "stream",
     "text": [
      "85\n",
      "Financial Analysis\n",
      "----------------------------\n",
      "Total Months: 86\n",
      "Total: $22564198\n",
      "Average Change: $-8311.11\n",
      "Greatest Increase in Profits: Aug-16 ($1862002)\n",
      "Greatest Decrease in Profits: Feb-14 ($-1825558)\n"
     ]
    }
   ],
   "source": [
    "import os\n",
    "\n",
    "import csv\n",
    "from pathlib import Path\n",
    "\n",
    "# csvpath = Path(\".\\Resources\\cbudget_data.csv\")\n",
    "csvpath = os.path.join(\".\", \"Resources\", \"cbudget_data.csv\")\n",
    "# Initialize variables\n",
    "total_months = 0\n",
    "net_profit_losses = 0\n",
    "previous_profit_loss = 0\n",
    "changes = []\n",
    "greatest_increase = ['', 0]\n",
    "greatest_decrease = ['', 0]\n",
    "\n",
    "# Read the CSV file\n",
    "with open(csvpath) as csvfile:\n",
    "    csvreader = csv.reader(csvfile, delimiter=',')\n",
    "                \n",
    "# Skip header row\n",
    "    header = next(csvreader)\n",
    "\n",
    "    # Iterate over each row in the CSV file\n",
    "    for row in csvreader:\n",
    "\n",
    "        # Calculate the total number of months\n",
    "        total_months += 1\n",
    "\n",
    "        # Calculate the net total amount of \"Profit/Losses\"\n",
    "        net_profit_losses += int(row[1])\n",
    "\n",
    "        # Calculate the change in \"Profit/Losses\" from the previous month\n",
    "        # if total_months > 1:\n",
    "        current_profit_loss = int(row[1])\n",
    "        change = current_profit_loss - previous_profit_loss\n",
    "        changes.append(change)\n",
    "\n",
    "        # Update the greatest increase in profits\n",
    "        if change > greatest_increase[1]:\n",
    "            greatest_increase = [row[0], change]\n",
    "\n",
    "        # Update the greatest decrease in profits\n",
    "        if change < greatest_decrease[1]:\n",
    "            greatest_decrease = [row[0], change]\n",
    "\n",
    "        previous_profit_loss = current_profit_loss\n",
    "\n",
    "# Calculate the average change in \"Profit/Losses\"\n",
    "changes.pop(0)\n",
    "average_change = sum(changes) / len(changes)\n",
    "print (len(changes))\n",
    "# Print the calculated values\n",
    "print(\"Financial Analysis\")\n",
    "print(\"----------------------------\")\n",
    "print(f\"Total Months: {total_months}\")\n",
    "print(f\"Total: ${net_profit_losses}\")\n",
    "print(f\"Average Change: ${average_change:.2f}\")\n",
    "print(f\"Greatest Increase in Profits: {greatest_increase[0]} (${greatest_increase[1]})\")\n",
    "print(f\"Greatest Decrease in Profits: {greatest_decrease[0]} (${greatest_decrease[1]})\")\n"
   ]
  },
  {
   "cell_type": "code",
   "execution_count": null,
   "id": "2933d747",
   "metadata": {},
   "outputs": [],
   "source": []
  },
  {
   "cell_type": "code",
   "execution_count": null,
   "id": "e294fd13",
   "metadata": {},
   "outputs": [],
   "source": []
  }
 ],
 "metadata": {
  "kernelspec": {
   "display_name": "Python 3 (ipykernel)",
   "language": "python",
   "name": "python3"
  },
  "language_info": {
   "codemirror_mode": {
    "name": "ipython",
    "version": 3
   },
   "file_extension": ".py",
   "mimetype": "text/x-python",
   "name": "python",
   "nbconvert_exporter": "python",
   "pygments_lexer": "ipython3",
   "version": "3.10.11"
  }
 },
 "nbformat": 4,
 "nbformat_minor": 5
}
